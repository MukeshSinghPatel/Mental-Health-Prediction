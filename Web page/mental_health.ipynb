{
 "cells": [
  {
   "cell_type": "code",
   "execution_count": 39,
   "metadata": {},
   "outputs": [],
   "source": [
    "# Library to suppress warnings or deprecation notes\n",
    "import warnings\n",
    "warnings.filterwarnings(\"ignore\")\n",
    "import pandas as pd\n",
    "import numpy as np\n",
    "# Libraries to perform statistical analysis\n",
    "import scipy.stats as stats\n",
    "import sklearn\n",
    "# Library to split data\n",
    "from sklearn.model_selection import train_test_split\n",
    "# Removes the limit for the number of displayed columns\n",
    "pd.set_option(\"display.max_columns\", None)\n",
    "import statsmodels.api as sm\n",
    "# Sets the limit for the number of displayed rows\n",
    "pd.set_option(\"display.max_rows\", 200)\n",
    "from sklearn.linear_model import LogisticRegression\n",
    "from sklearn.tree import DecisionTreeClassifier\n",
    "from sklearn.svm import SVC\n",
    "from sklearn.neighbors import KNeighborsClassifier\n",
    "from sklearn.neural_network import MLPClassifier\n",
    "from sklearn.ensemble import GradientBoostingClassifier\n",
    "from sklearn.ensemble import AdaBoostClassifier, GradientBoostingClassifier\n",
    "import pickle"
   ]
  },
  {
   "cell_type": "code",
   "execution_count": 40,
   "metadata": {},
   "outputs": [],
   "source": [
    "# Loading the survey into out notebook\n",
    "mhdata = pd.read_csv('../survey.csv')"
   ]
  },
  {
   "cell_type": "code",
   "execution_count": 41,
   "metadata": {},
   "outputs": [],
   "source": [
    "# Dropping columns not needed/ not useful for EDA and modeling\n",
    "mhdata.drop(columns=['Timestamp', 'Country', 'state', 'comments'], inplace = True)"
   ]
  },
  {
   "cell_type": "code",
   "execution_count": 42,
   "metadata": {},
   "outputs": [],
   "source": [
    "# Renaming columns for uniformity and ease of understanding. We like uniformity!\n",
    "mhdata.rename({'self_employed' : 'Self_Employed', 'family_history' : 'Family_History',\n",
    "           'treatment' : 'Treatment', 'work_interfere' : 'Work_Interfere',\n",
    "           'no_employees': 'Employee_Count_Company', 'remote_work': 'Remote_Work', 'tech_company': 'Tech_Company',\n",
    "           'benefits': 'Benefits', 'care_options': 'Care_Options', 'wellness_program': 'Wellness_Program',\n",
    "           'seek_help': 'Seek_Help', 'anonymity': 'Anonymity', 'leave': 'Medical_Leave',\n",
    "           'mental_health_consequence': 'Mental_Health_Consequence',\n",
    "           'phys_health_consequence': 'Physical_Health_Consequence', 'coworkers': 'Coworkers_Reach',\n",
    "           'supervisor': 'Supervisor_Reach', 'mental_health_interview': 'Mental_Health_Interview',\n",
    "           'phys_health_interview': 'Physical_Health_Interview', 'mental_vs_physical': 'Mental_VS_Physical',\n",
    "           'obs_consequence': 'Observed_Consequence_Workplace'} , inplace = True , axis = 1)"
   ]
  },
  {
   "cell_type": "code",
   "execution_count": 43,
   "metadata": {},
   "outputs": [
    {
     "name": "stdout",
     "output_type": "stream",
     "text": [
      "31.0\n"
     ]
    }
   ],
   "source": [
    "# calculating the median age\n",
    "median_age = mhdata['Age'].median()\n",
    "print(median_age)"
   ]
  },
  {
   "cell_type": "code",
   "execution_count": 44,
   "metadata": {},
   "outputs": [
    {
     "data": {
      "text/plain": [
       "array([37, 44, 32, 31, 33, 35, 39, 42, 23, 29, 36, 27, 46, 41, 34, 30, 40,\n",
       "       38, 50, 24, 18, 28, 26, 22, 19, 25, 45, 21, 43, 56, 60, 54, 55, 48,\n",
       "       20, 57, 58, 47, 62, 51, 65, 49, 53, 61, 72], dtype=int64)"
      ]
     },
     "execution_count": 44,
     "metadata": {},
     "output_type": "execute_result"
    }
   ],
   "source": [
    "# since some of data are impossible to work with, we will replace impossible values with the median age\n",
    "mhdata['Age'].replace([mhdata['Age'][mhdata['Age'] < 15]], median_age, inplace = True)\n",
    "mhdata['Age'].replace([mhdata['Age'][mhdata['Age'] > 100]], median_age, inplace = True)\n",
    "\n",
    "mhdata['Age'].unique()"
   ]
  },
  {
   "cell_type": "code",
   "execution_count": 45,
   "metadata": {},
   "outputs": [],
   "source": [
    "# We will only limit our analysis to three categories\n",
    "mhdata['Gender'].replace(['Male ', 'male', 'M', 'm', 'Male', 'Cis Male',\n",
    "                     'Man', 'cis male', 'Mail', 'Male-ish', 'Male (CIS)',\n",
    "                      'Cis Man', 'msle', 'Malr', 'Mal', 'maile', 'Make',], 'Male', inplace = True)\n",
    "\n",
    "mhdata['Gender'].replace(['Female ', 'female', 'F', 'f', 'Woman', 'Female',\n",
    "                     'femail', 'Cis Female', 'cis-female/femme', 'Femake', 'Female (cis)',\n",
    "                     'woman',], 'Female', inplace = True)\n",
    "\n",
    "mhdata[\"Gender\"].replace(['Female (trans)', 'queer/she/they', 'non-binary',\n",
    "                     'fluid', 'queer', 'Androgyne', 'Trans-female', 'male leaning androgynous',\n",
    "                      'Agender', 'A little about you', 'Nah', 'All',\n",
    "                      'ostensibly male, unsure what that really means',\n",
    "                      'Genderqueer', 'Enby', 'p', 'Neuter', 'something kinda male?',\n",
    "                      'Guy (-ish) ^_^', 'Trans woman',], 'Queer', inplace = True)"
   ]
  },
  {
   "cell_type": "markdown",
   "metadata": {},
   "source": [
    "Data preprocessing"
   ]
  },
  {
   "cell_type": "code",
   "execution_count": 46,
   "metadata": {},
   "outputs": [],
   "source": [
    "mhdata['Treatment'] = np.where(mhdata['Treatment'] == 'Yes', 1, 0)"
   ]
  },
  {
   "cell_type": "code",
   "execution_count": 47,
   "metadata": {},
   "outputs": [],
   "source": [
    "# Now, we separate our dependent and independent variables.\n",
    "X = mhdata.drop([\"Treatment\"], axis=1)\n",
    "Y = mhdata[\"Treatment\"]\n",
    "\n",
    "# The independent variables will be transformed into dummy variables\n",
    "X = pd.get_dummies(X, drop_first=True)\n",
    "\n",
    "# adding constant. This is a requirement of Stats Model library. It creates a new column with float value 1\n",
    "X = sm.add_constant(X)"
   ]
  },
  {
   "cell_type": "code",
   "execution_count": 48,
   "metadata": {},
   "outputs": [],
   "source": [
    "# Splitting data in train and test sets\n",
    "X_train, X_test, y_train, y_test = train_test_split(\n",
    "    X, Y, test_size=0.30, random_state=1\n",
    ")"
   ]
  },
  {
   "cell_type": "code",
   "execution_count": 49,
   "metadata": {},
   "outputs": [],
   "source": [
    "# Initialize your models (assuming they are already defined)\n",
    "svm_model = SVC()\n",
    "lr_model = LogisticRegression()\n",
    "boost = AdaBoostClassifier()\n",
    "gb_model = GradientBoostingClassifier()\n",
    "mlp_model = MLPClassifier()\n",
    "dTree = DecisionTreeClassifier()\n",
    "knn_model = KNeighborsClassifier()"
   ]
  },
  {
   "cell_type": "code",
   "execution_count": 50,
   "metadata": {},
   "outputs": [
    {
     "data": {
      "text/html": [
       "<style>#sk-container-id-2 {color: black;}#sk-container-id-2 pre{padding: 0;}#sk-container-id-2 div.sk-toggleable {background-color: white;}#sk-container-id-2 label.sk-toggleable__label {cursor: pointer;display: block;width: 100%;margin-bottom: 0;padding: 0.3em;box-sizing: border-box;text-align: center;}#sk-container-id-2 label.sk-toggleable__label-arrow:before {content: \"▸\";float: left;margin-right: 0.25em;color: #696969;}#sk-container-id-2 label.sk-toggleable__label-arrow:hover:before {color: black;}#sk-container-id-2 div.sk-estimator:hover label.sk-toggleable__label-arrow:before {color: black;}#sk-container-id-2 div.sk-toggleable__content {max-height: 0;max-width: 0;overflow: hidden;text-align: left;background-color: #f0f8ff;}#sk-container-id-2 div.sk-toggleable__content pre {margin: 0.2em;color: black;border-radius: 0.25em;background-color: #f0f8ff;}#sk-container-id-2 input.sk-toggleable__control:checked~div.sk-toggleable__content {max-height: 200px;max-width: 100%;overflow: auto;}#sk-container-id-2 input.sk-toggleable__control:checked~label.sk-toggleable__label-arrow:before {content: \"▾\";}#sk-container-id-2 div.sk-estimator input.sk-toggleable__control:checked~label.sk-toggleable__label {background-color: #d4ebff;}#sk-container-id-2 div.sk-label input.sk-toggleable__control:checked~label.sk-toggleable__label {background-color: #d4ebff;}#sk-container-id-2 input.sk-hidden--visually {border: 0;clip: rect(1px 1px 1px 1px);clip: rect(1px, 1px, 1px, 1px);height: 1px;margin: -1px;overflow: hidden;padding: 0;position: absolute;width: 1px;}#sk-container-id-2 div.sk-estimator {font-family: monospace;background-color: #f0f8ff;border: 1px dotted black;border-radius: 0.25em;box-sizing: border-box;margin-bottom: 0.5em;}#sk-container-id-2 div.sk-estimator:hover {background-color: #d4ebff;}#sk-container-id-2 div.sk-parallel-item::after {content: \"\";width: 100%;border-bottom: 1px solid gray;flex-grow: 1;}#sk-container-id-2 div.sk-label:hover label.sk-toggleable__label {background-color: #d4ebff;}#sk-container-id-2 div.sk-serial::before {content: \"\";position: absolute;border-left: 1px solid gray;box-sizing: border-box;top: 0;bottom: 0;left: 50%;z-index: 0;}#sk-container-id-2 div.sk-serial {display: flex;flex-direction: column;align-items: center;background-color: white;padding-right: 0.2em;padding-left: 0.2em;position: relative;}#sk-container-id-2 div.sk-item {position: relative;z-index: 1;}#sk-container-id-2 div.sk-parallel {display: flex;align-items: stretch;justify-content: center;background-color: white;position: relative;}#sk-container-id-2 div.sk-item::before, #sk-container-id-2 div.sk-parallel-item::before {content: \"\";position: absolute;border-left: 1px solid gray;box-sizing: border-box;top: 0;bottom: 0;left: 50%;z-index: -1;}#sk-container-id-2 div.sk-parallel-item {display: flex;flex-direction: column;z-index: 1;position: relative;background-color: white;}#sk-container-id-2 div.sk-parallel-item:first-child::after {align-self: flex-end;width: 50%;}#sk-container-id-2 div.sk-parallel-item:last-child::after {align-self: flex-start;width: 50%;}#sk-container-id-2 div.sk-parallel-item:only-child::after {width: 0;}#sk-container-id-2 div.sk-dashed-wrapped {border: 1px dashed gray;margin: 0 0.4em 0.5em 0.4em;box-sizing: border-box;padding-bottom: 0.4em;background-color: white;}#sk-container-id-2 div.sk-label label {font-family: monospace;font-weight: bold;display: inline-block;line-height: 1.2em;}#sk-container-id-2 div.sk-label-container {text-align: center;}#sk-container-id-2 div.sk-container {/* jupyter's `normalize.less` sets `[hidden] { display: none; }` but bootstrap.min.css set `[hidden] { display: none !important; }` so we also need the `!important` here to be able to override the default hidden behavior on the sphinx rendered scikit-learn.org. See: https://github.com/scikit-learn/scikit-learn/issues/21755 */display: inline-block !important;position: relative;}#sk-container-id-2 div.sk-text-repr-fallback {display: none;}</style><div id=\"sk-container-id-2\" class=\"sk-top-container\"><div class=\"sk-text-repr-fallback\"><pre>StackingClassifier(estimators=[(&#x27;SVM&#x27;, SVC()),\n",
       "                               (&#x27;LogisticRegression&#x27;, LogisticRegression()),\n",
       "                               (&#x27;AdaBoostClassifier&#x27;, AdaBoostClassifier()),\n",
       "                               (&#x27;GradientBoostingClassifier&#x27;,\n",
       "                                GradientBoostingClassifier()),\n",
       "                               (&#x27;MLPClassifier&#x27;, MLPClassifier()),\n",
       "                               (&#x27;DecisionTreeClassifier&#x27;,\n",
       "                                DecisionTreeClassifier()),\n",
       "                               (&#x27;KNN_Classifier&#x27;, KNeighborsClassifier())],\n",
       "                   final_estimator=SVC())</pre><b>In a Jupyter environment, please rerun this cell to show the HTML representation or trust the notebook. <br />On GitHub, the HTML representation is unable to render, please try loading this page with nbviewer.org.</b></div><div class=\"sk-container\" hidden><div class=\"sk-item sk-dashed-wrapped\"><div class=\"sk-label-container\"><div class=\"sk-label sk-toggleable\"><input class=\"sk-toggleable__control sk-hidden--visually\" id=\"sk-estimator-id-10\" type=\"checkbox\" ><label for=\"sk-estimator-id-10\" class=\"sk-toggleable__label sk-toggleable__label-arrow\">StackingClassifier</label><div class=\"sk-toggleable__content\"><pre>StackingClassifier(estimators=[(&#x27;SVM&#x27;, SVC()),\n",
       "                               (&#x27;LogisticRegression&#x27;, LogisticRegression()),\n",
       "                               (&#x27;AdaBoostClassifier&#x27;, AdaBoostClassifier()),\n",
       "                               (&#x27;GradientBoostingClassifier&#x27;,\n",
       "                                GradientBoostingClassifier()),\n",
       "                               (&#x27;MLPClassifier&#x27;, MLPClassifier()),\n",
       "                               (&#x27;DecisionTreeClassifier&#x27;,\n",
       "                                DecisionTreeClassifier()),\n",
       "                               (&#x27;KNN_Classifier&#x27;, KNeighborsClassifier())],\n",
       "                   final_estimator=SVC())</pre></div></div></div><div class=\"sk-serial\"><div class=\"sk-item\"><div class=\"sk-parallel\"><div class=\"sk-parallel-item\"><div class=\"sk-item\"><div class=\"sk-label-container\"><div class=\"sk-label sk-toggleable\"><label>SVM</label></div></div><div class=\"sk-serial\"><div class=\"sk-item\"><div class=\"sk-estimator sk-toggleable\"><input class=\"sk-toggleable__control sk-hidden--visually\" id=\"sk-estimator-id-11\" type=\"checkbox\" ><label for=\"sk-estimator-id-11\" class=\"sk-toggleable__label sk-toggleable__label-arrow\">SVC</label><div class=\"sk-toggleable__content\"><pre>SVC()</pre></div></div></div></div></div></div><div class=\"sk-parallel-item\"><div class=\"sk-item\"><div class=\"sk-label-container\"><div class=\"sk-label sk-toggleable\"><label>LogisticRegression</label></div></div><div class=\"sk-serial\"><div class=\"sk-item\"><div class=\"sk-estimator sk-toggleable\"><input class=\"sk-toggleable__control sk-hidden--visually\" id=\"sk-estimator-id-12\" type=\"checkbox\" ><label for=\"sk-estimator-id-12\" class=\"sk-toggleable__label sk-toggleable__label-arrow\">LogisticRegression</label><div class=\"sk-toggleable__content\"><pre>LogisticRegression()</pre></div></div></div></div></div></div><div class=\"sk-parallel-item\"><div class=\"sk-item\"><div class=\"sk-label-container\"><div class=\"sk-label sk-toggleable\"><label>AdaBoostClassifier</label></div></div><div class=\"sk-serial\"><div class=\"sk-item\"><div class=\"sk-estimator sk-toggleable\"><input class=\"sk-toggleable__control sk-hidden--visually\" id=\"sk-estimator-id-13\" type=\"checkbox\" ><label for=\"sk-estimator-id-13\" class=\"sk-toggleable__label sk-toggleable__label-arrow\">AdaBoostClassifier</label><div class=\"sk-toggleable__content\"><pre>AdaBoostClassifier()</pre></div></div></div></div></div></div><div class=\"sk-parallel-item\"><div class=\"sk-item\"><div class=\"sk-label-container\"><div class=\"sk-label sk-toggleable\"><label>GradientBoostingClassifier</label></div></div><div class=\"sk-serial\"><div class=\"sk-item\"><div class=\"sk-estimator sk-toggleable\"><input class=\"sk-toggleable__control sk-hidden--visually\" id=\"sk-estimator-id-14\" type=\"checkbox\" ><label for=\"sk-estimator-id-14\" class=\"sk-toggleable__label sk-toggleable__label-arrow\">GradientBoostingClassifier</label><div class=\"sk-toggleable__content\"><pre>GradientBoostingClassifier()</pre></div></div></div></div></div></div><div class=\"sk-parallel-item\"><div class=\"sk-item\"><div class=\"sk-label-container\"><div class=\"sk-label sk-toggleable\"><label>MLPClassifier</label></div></div><div class=\"sk-serial\"><div class=\"sk-item\"><div class=\"sk-estimator sk-toggleable\"><input class=\"sk-toggleable__control sk-hidden--visually\" id=\"sk-estimator-id-15\" type=\"checkbox\" ><label for=\"sk-estimator-id-15\" class=\"sk-toggleable__label sk-toggleable__label-arrow\">MLPClassifier</label><div class=\"sk-toggleable__content\"><pre>MLPClassifier()</pre></div></div></div></div></div></div><div class=\"sk-parallel-item\"><div class=\"sk-item\"><div class=\"sk-label-container\"><div class=\"sk-label sk-toggleable\"><label>DecisionTreeClassifier</label></div></div><div class=\"sk-serial\"><div class=\"sk-item\"><div class=\"sk-estimator sk-toggleable\"><input class=\"sk-toggleable__control sk-hidden--visually\" id=\"sk-estimator-id-16\" type=\"checkbox\" ><label for=\"sk-estimator-id-16\" class=\"sk-toggleable__label sk-toggleable__label-arrow\">DecisionTreeClassifier</label><div class=\"sk-toggleable__content\"><pre>DecisionTreeClassifier()</pre></div></div></div></div></div></div><div class=\"sk-parallel-item\"><div class=\"sk-item\"><div class=\"sk-label-container\"><div class=\"sk-label sk-toggleable\"><label>KNN_Classifier</label></div></div><div class=\"sk-serial\"><div class=\"sk-item\"><div class=\"sk-estimator sk-toggleable\"><input class=\"sk-toggleable__control sk-hidden--visually\" id=\"sk-estimator-id-17\" type=\"checkbox\" ><label for=\"sk-estimator-id-17\" class=\"sk-toggleable__label sk-toggleable__label-arrow\">KNeighborsClassifier</label><div class=\"sk-toggleable__content\"><pre>KNeighborsClassifier()</pre></div></div></div></div></div></div></div></div><div class=\"sk-item\"><div class=\"sk-parallel\"><div class=\"sk-parallel-item\"><div class=\"sk-item\"><div class=\"sk-label-container\"><div class=\"sk-label sk-toggleable\"><label>final_estimator</label></div></div><div class=\"sk-serial\"><div class=\"sk-item\"><div class=\"sk-estimator sk-toggleable\"><input class=\"sk-toggleable__control sk-hidden--visually\" id=\"sk-estimator-id-18\" type=\"checkbox\" ><label for=\"sk-estimator-id-18\" class=\"sk-toggleable__label sk-toggleable__label-arrow\">SVC</label><div class=\"sk-toggleable__content\"><pre>SVC()</pre></div></div></div></div></div></div></div></div></div></div></div></div>"
      ],
      "text/plain": [
       "StackingClassifier(estimators=[('SVM', SVC()),\n",
       "                               ('LogisticRegression', LogisticRegression()),\n",
       "                               ('AdaBoostClassifier', AdaBoostClassifier()),\n",
       "                               ('GradientBoostingClassifier',\n",
       "                                GradientBoostingClassifier()),\n",
       "                               ('MLPClassifier', MLPClassifier()),\n",
       "                               ('DecisionTreeClassifier',\n",
       "                                DecisionTreeClassifier()),\n",
       "                               ('KNN_Classifier', KNeighborsClassifier())],\n",
       "                   final_estimator=SVC())"
      ]
     },
     "execution_count": 50,
     "metadata": {},
     "output_type": "execute_result"
    }
   ],
   "source": [
    "# Import necessary libraries\n",
    "from sklearn.ensemble import StackingClassifier\n",
    "# Initialize the base classifiers\n",
    "base_classifiers = [('SVM',svm_model),('LogisticRegression',lr_model),('AdaBoostClassifier',boost),('GradientBoostingClassifier',gb_model),('MLPClassifier',mlp_model),('DecisionTreeClassifier',dTree),('KNN_Classifier',knn_model)]\n",
    "# Create a meta-classifier\n",
    "# Initialize the meta-classifier\n",
    "meta_classifier = svm_model\n",
    "stack = StackingClassifier(estimators=base_classifiers, final_estimator=meta_classifier)\n",
    "stack.fit(X_train, y_train)\n"
   ]
  },
  {
   "cell_type": "code",
   "execution_count": 51,
   "metadata": {},
   "outputs": [],
   "source": [
    "from sklearn.calibration import CalibratedClassifierCV\n",
    "# Initialize CalibratedClassifierCV\n",
    "calibrated_stack = CalibratedClassifierCV(stack, method='sigmoid', cv='prefit')\n",
    "# Fit CalibratedClassifierCV\n",
    "calibrated_stack.fit(X_train, y_train)\n",
    "# Make predictions\n",
    "y_pred_proba = calibrated_stack.predict_proba(X_test)"
   ]
  },
  {
   "cell_type": "code",
   "execution_count": 52,
   "metadata": {},
   "outputs": [
    {
     "data": {
      "text/html": [
       "<div>\n",
       "<style scoped>\n",
       "    .dataframe tbody tr th:only-of-type {\n",
       "        vertical-align: middle;\n",
       "    }\n",
       "\n",
       "    .dataframe tbody tr th {\n",
       "        vertical-align: top;\n",
       "    }\n",
       "\n",
       "    .dataframe thead th {\n",
       "        text-align: right;\n",
       "    }\n",
       "</style>\n",
       "<table border=\"1\" class=\"dataframe\">\n",
       "  <thead>\n",
       "    <tr style=\"text-align: right;\">\n",
       "      <th></th>\n",
       "      <th>const</th>\n",
       "      <th>Age</th>\n",
       "      <th>Gender_Male</th>\n",
       "      <th>Gender_Queer</th>\n",
       "      <th>Self_Employed_Yes</th>\n",
       "      <th>Family_History_Yes</th>\n",
       "      <th>Work_Interfere_Often</th>\n",
       "      <th>Work_Interfere_Rarely</th>\n",
       "      <th>Work_Interfere_Sometimes</th>\n",
       "      <th>Employee_Count_Company_100-500</th>\n",
       "      <th>Employee_Count_Company_26-100</th>\n",
       "      <th>Employee_Count_Company_500-1000</th>\n",
       "      <th>Employee_Count_Company_6-25</th>\n",
       "      <th>Employee_Count_Company_More than 1000</th>\n",
       "      <th>Remote_Work_Yes</th>\n",
       "      <th>Tech_Company_Yes</th>\n",
       "      <th>Benefits_No</th>\n",
       "      <th>Benefits_Yes</th>\n",
       "      <th>Care_Options_Not sure</th>\n",
       "      <th>Care_Options_Yes</th>\n",
       "      <th>Wellness_Program_No</th>\n",
       "      <th>Wellness_Program_Yes</th>\n",
       "      <th>Seek_Help_No</th>\n",
       "      <th>Seek_Help_Yes</th>\n",
       "      <th>Anonymity_No</th>\n",
       "      <th>Anonymity_Yes</th>\n",
       "      <th>Medical_Leave_Somewhat difficult</th>\n",
       "      <th>Medical_Leave_Somewhat easy</th>\n",
       "      <th>Medical_Leave_Very difficult</th>\n",
       "      <th>Medical_Leave_Very easy</th>\n",
       "      <th>Mental_Health_Consequence_No</th>\n",
       "      <th>Mental_Health_Consequence_Yes</th>\n",
       "      <th>Physical_Health_Consequence_No</th>\n",
       "      <th>Physical_Health_Consequence_Yes</th>\n",
       "      <th>Coworkers_Reach_Some of them</th>\n",
       "      <th>Coworkers_Reach_Yes</th>\n",
       "      <th>Supervisor_Reach_Some of them</th>\n",
       "      <th>Supervisor_Reach_Yes</th>\n",
       "      <th>Mental_Health_Interview_No</th>\n",
       "      <th>Mental_Health_Interview_Yes</th>\n",
       "      <th>Physical_Health_Interview_No</th>\n",
       "      <th>Physical_Health_Interview_Yes</th>\n",
       "      <th>Mental_VS_Physical_No</th>\n",
       "      <th>Mental_VS_Physical_Yes</th>\n",
       "      <th>Observed_Consequence_Workplace_Yes</th>\n",
       "    </tr>\n",
       "  </thead>\n",
       "  <tbody>\n",
       "    <tr>\n",
       "      <th>0</th>\n",
       "      <td>1</td>\n",
       "      <td>27</td>\n",
       "      <td>0</td>\n",
       "      <td>0</td>\n",
       "      <td>0</td>\n",
       "      <td>1</td>\n",
       "      <td>0</td>\n",
       "      <td>0</td>\n",
       "      <td>1</td>\n",
       "      <td>0</td>\n",
       "      <td>1</td>\n",
       "      <td>0</td>\n",
       "      <td>0</td>\n",
       "      <td>0</td>\n",
       "      <td>1</td>\n",
       "      <td>1</td>\n",
       "      <td>0</td>\n",
       "      <td>1</td>\n",
       "      <td>0</td>\n",
       "      <td>1</td>\n",
       "      <td>1</td>\n",
       "      <td>0</td>\n",
       "      <td>0</td>\n",
       "      <td>1</td>\n",
       "      <td>0</td>\n",
       "      <td>1</td>\n",
       "      <td>0</td>\n",
       "      <td>0</td>\n",
       "      <td>0</td>\n",
       "      <td>1</td>\n",
       "      <td>0</td>\n",
       "      <td>0</td>\n",
       "      <td>0</td>\n",
       "      <td>0</td>\n",
       "      <td>0</td>\n",
       "      <td>1</td>\n",
       "      <td>0</td>\n",
       "      <td>0</td>\n",
       "      <td>0</td>\n",
       "      <td>0</td>\n",
       "      <td>0</td>\n",
       "      <td>0</td>\n",
       "      <td>0</td>\n",
       "      <td>1</td>\n",
       "      <td>0</td>\n",
       "    </tr>\n",
       "  </tbody>\n",
       "</table>\n",
       "</div>"
      ],
      "text/plain": [
       "   const  Age  Gender_Male  Gender_Queer  Self_Employed_Yes  \\\n",
       "0      1   27            0             0                  0   \n",
       "\n",
       "   Family_History_Yes  Work_Interfere_Often  Work_Interfere_Rarely  \\\n",
       "0                   1                     0                      0   \n",
       "\n",
       "   Work_Interfere_Sometimes  Employee_Count_Company_100-500  \\\n",
       "0                         1                               0   \n",
       "\n",
       "   Employee_Count_Company_26-100  Employee_Count_Company_500-1000  \\\n",
       "0                              1                                0   \n",
       "\n",
       "   Employee_Count_Company_6-25  Employee_Count_Company_More than 1000  \\\n",
       "0                            0                                      0   \n",
       "\n",
       "   Remote_Work_Yes  Tech_Company_Yes  Benefits_No  Benefits_Yes  \\\n",
       "0                1                 1            0             1   \n",
       "\n",
       "   Care_Options_Not sure  Care_Options_Yes  Wellness_Program_No  \\\n",
       "0                      0                 1                    1   \n",
       "\n",
       "   Wellness_Program_Yes  Seek_Help_No  Seek_Help_Yes  Anonymity_No  \\\n",
       "0                     0             0              1             0   \n",
       "\n",
       "   Anonymity_Yes  Medical_Leave_Somewhat difficult  \\\n",
       "0              1                                 0   \n",
       "\n",
       "   Medical_Leave_Somewhat easy  Medical_Leave_Very difficult  \\\n",
       "0                            0                             0   \n",
       "\n",
       "   Medical_Leave_Very easy  Mental_Health_Consequence_No  \\\n",
       "0                        1                             0   \n",
       "\n",
       "   Mental_Health_Consequence_Yes  Physical_Health_Consequence_No  \\\n",
       "0                              0                               0   \n",
       "\n",
       "   Physical_Health_Consequence_Yes  Coworkers_Reach_Some of them  \\\n",
       "0                                0                             0   \n",
       "\n",
       "   Coworkers_Reach_Yes  Supervisor_Reach_Some of them  Supervisor_Reach_Yes  \\\n",
       "0                    1                              0                     0   \n",
       "\n",
       "   Mental_Health_Interview_No  Mental_Health_Interview_Yes  \\\n",
       "0                           0                            0   \n",
       "\n",
       "   Physical_Health_Interview_No  Physical_Health_Interview_Yes  \\\n",
       "0                             0                              0   \n",
       "\n",
       "   Mental_VS_Physical_No  Mental_VS_Physical_Yes  \\\n",
       "0                      0                       1   \n",
       "\n",
       "   Observed_Consequence_Workplace_Yes  \n",
       "0                                   0  "
      ]
     },
     "execution_count": 52,
     "metadata": {},
     "output_type": "execute_result"
    }
   ],
   "source": [
    "new_respondent = pd.DataFrame([{\n",
    "    'const': 1,\n",
    "    'Age': 27,\n",
    "    'Gender_Male': 0,\n",
    "    'Gender_Queer': 0,\n",
    "    'Self_Employed_Yes': 0,\n",
    "    'Family_History_Yes': 1,\n",
    "    'Work_Interfere_Often': 0,\n",
    "    'Work_Interfere_Rarely': 0,\n",
    "    'Work_Interfere_Sometimes': 1,\n",
    "    'Employee_Count_Company_100-500': 0,\n",
    "    'Employee_Count_Company_26-100': 1,\n",
    "    'Employee_Count_Company_500-1000': 0,\n",
    "    'Employee_Count_Company_6-25': 0,\n",
    "    'Employee_Count_Company_More than 1000': 0,\n",
    "    'Remote_Work_Yes': 1,\n",
    "    'Tech_Company_Yes': 1,\n",
    "    'Benefits_No': 0,\n",
    "    'Benefits_Yes': 1,\n",
    "    'Care_Options_Not sure': 0,\n",
    "    'Care_Options_Yes': 1,\n",
    "    'Wellness_Program_No': 1,\n",
    "    'Wellness_Program_Yes': 0,\n",
    "    'Seek_Help_No': 0,\n",
    "    'Seek_Help_Yes': 1,\n",
    "    'Anonymity_No': 0,\n",
    "    'Anonymity_Yes': 1,\n",
    "    'Medical_Leave_Somewhat difficult': 0,\n",
    "    'Medical_Leave_Somewhat easy': 0,\n",
    "    'Medical_Leave_Very difficult': 0,\n",
    "    'Medical_Leave_Very easy': 1,\n",
    "    'Mental_Health_Consequence_No': 0,\n",
    "    'Mental_Health_Consequence_Yes': 0,\n",
    "    'Physical_Health_Consequence_No': 0,\n",
    "    'Physical_Health_Consequence_Yes': 0,\n",
    "    'Coworkers_Reach_Some of them': 0,\n",
    "    'Coworkers_Reach_Yes': 1,\n",
    "    'Supervisor_Reach_Some of them': 0,\n",
    "    'Supervisor_Reach_Yes': 0,\n",
    "    'Mental_Health_Interview_No': 0,\n",
    "    'Mental_Health_Interview_Yes': 0,\n",
    "    'Physical_Health_Interview_No': 0,\n",
    "    'Physical_Health_Interview_Yes': 0,\n",
    "    'Mental_VS_Physical_No': 0,\n",
    "    'Mental_VS_Physical_Yes': 1,\n",
    "    'Observed_Consequence_Workplace_Yes': 0,\n",
    "\n",
    "\n",
    "}],columns=[\n",
    "    'const',\n",
    "    'Age',\n",
    "    'Gender_Male',\n",
    "    'Gender_Queer',\n",
    "    'Self_Employed_Yes',\n",
    "    'Family_History_Yes',\n",
    "    'Work_Interfere_Often',\n",
    "    'Work_Interfere_Rarely',\n",
    "    'Work_Interfere_Sometimes',\n",
    "    'Employee_Count_Company_100-500',\n",
    "    'Employee_Count_Company_26-100',\n",
    "    'Employee_Count_Company_500-1000',\n",
    "    'Employee_Count_Company_6-25',\n",
    "    'Employee_Count_Company_More than 1000',\n",
    "    'Remote_Work_Yes',\n",
    "    'Tech_Company_Yes',\n",
    "    'Benefits_No',\n",
    "    'Benefits_Yes',\n",
    "    'Care_Options_Not sure',\n",
    "    'Care_Options_Yes',\n",
    "    'Wellness_Program_No',\n",
    "    'Wellness_Program_Yes',\n",
    "    'Seek_Help_No',\n",
    "    'Seek_Help_Yes',\n",
    "    'Anonymity_No',\n",
    "    'Anonymity_Yes',\n",
    "    'Medical_Leave_Somewhat difficult',\n",
    "    'Medical_Leave_Somewhat easy',\n",
    "    'Medical_Leave_Very difficult',\n",
    "    'Medical_Leave_Very easy',\n",
    "    'Mental_Health_Consequence_No',\n",
    "    'Mental_Health_Consequence_Yes',\n",
    "    'Physical_Health_Consequence_No',\n",
    "    'Physical_Health_Consequence_Yes',\n",
    "    'Coworkers_Reach_Some of them',\n",
    "    'Coworkers_Reach_Yes',\n",
    "    'Supervisor_Reach_Some of them',\n",
    "    'Supervisor_Reach_Yes',\n",
    "    'Mental_Health_Interview_No',\n",
    "    'Mental_Health_Interview_Yes',\n",
    "    'Physical_Health_Interview_No',\n",
    "    'Physical_Health_Interview_Yes',\n",
    "    'Mental_VS_Physical_No',\n",
    "    'Mental_VS_Physical_Yes',\n",
    "    'Observed_Consequence_Workplace_Yes',],)\n",
    "new_respondent"
   ]
  },
  {
   "cell_type": "code",
   "execution_count": 53,
   "metadata": {},
   "outputs": [
    {
     "name": "stdout",
     "output_type": "stream",
     "text": [
      "Prediction: [1]\n"
     ]
    }
   ],
   "source": [
    "predictionlg = calibrated_stack.predict(new_respondent)\n",
    "print('Prediction:', predictionlg)"
   ]
  },
  {
   "cell_type": "code",
   "execution_count": 54,
   "metadata": {},
   "outputs": [],
   "source": [
    "pickle.dump(calibrated_stack,open('model.pkl','wb'))\n",
    "model=pickle.load(open('model.pkl','rb'))"
   ]
  },
  {
   "cell_type": "code",
   "execution_count": 60,
   "metadata": {},
   "outputs": [
    {
     "data": {
      "image/png": "[encoded data removed]",
      "text/plain": [
       "<Figure size 640x480 with 1 Axes>"
      ]
     },
     "metadata": {},
     "output_type": "display_data"
    }
   ],
   "source": [
    "# Function to plot learning curves\n",
    "def plot_learning_curve(estimator, title, X, y, ylim=None, cv=None, n_jobs=None, train_sizes=np.linspace(.1, 1.0, 5)):\n",
    "    plt.figure()\n",
    "    plt.title(title)\n",
    "    if ylim is not None:\n",
    "        plt.ylim(*ylim)\n",
    "    plt.xlabel(\"Training examples\")\n",
    "    plt.ylabel(\"Score\")\n",
    "    \n",
    "    train_sizes, train_scores, test_scores = learning_curve(estimator, X, y, cv=cv, n_jobs=n_jobs, train_sizes=train_sizes, scoring='accuracy')\n",
    "    \n",
    "    train_scores_mean = np.mean(train_scores, axis=1)\n",
    "    train_scores_std = np.std(train_scores, axis=1)\n",
    "    test_scores_mean = np.mean(test_scores, axis=1)\n",
    "    test_scores_std = np.std(test_scores, axis=1)\n",
    "    \n",
    "    plt.grid()\n",
    "    \n",
    "    plt.fill_between(train_sizes, train_scores_mean - train_scores_std, train_scores_mean + train_scores_std, alpha=0.1, color=\"r\")\n",
    "    plt.fill_between(train_sizes, test_scores_mean - test_scores_std, test_scores_mean + test_scores_std, alpha=0.1, color=\"g\")\n",
    "    plt.plot(train_sizes, train_scores_mean, 'o-', color=\"r\", label=\"Training score\")\n",
    "    plt.plot(train_sizes, test_scores_mean, 'o-', color=\"g\", label=\"Cross-validation score\")\n",
    "    \n",
    "    plt.legend(loc=\"best\")\n",
    "    return plt\n",
    "\n",
    "# Plot learning curves\n",
    "plot_learning_curve(stack, \"Learning Curves (Stacking Classifier)\", X, Y, cv=10, n_jobs=-1)\n",
    "plt.show()"
   ]
  }
 ],
 "metadata": {
  "kernelspec": {
   "display_name": "Python 3",
   "language": "python",
   "name": "python3"
  },
  "language_info": {
   "codemirror_mode": {
    "name": "ipython",
    "version": 3
   },
   "file_extension": ".py",
   "mimetype": "text/x-python",
   "name": "python",
   "nbconvert_exporter": "python",
   "pygments_lexer": "ipython3",
   "version": "3.11.9"
  }
 },
 "nbformat": 4,
 "nbformat_minor": 2
}
